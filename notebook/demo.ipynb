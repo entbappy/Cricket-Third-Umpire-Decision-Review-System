{
 "cells": [
  {
   "cell_type": "code",
   "execution_count": null,
   "metadata": {},
   "outputs": [],
   "source": [
    "#Some particuler Modules\n",
    "import tkinter  #For makes GUI\n",
    "import cv2  #openCV  (pip install opencv-python)\n",
    "#PIL - Python Imaging Library to display the image on GUI (pip install pillow)\n",
    "import PIL.Image, PIL.ImageTk  \n",
    "from functools import partial  #For give agruments into the functions\n",
    "import threading #It prevents from block program\n",
    "import imutils  #It resizes photos\n",
    "import time"
   ]
  },
  {
   "cell_type": "code",
   "execution_count": 1,
   "metadata": {},
   "outputs": [],
   "source": [
    "#Global Variables\n",
    "\n",
    "#for making a pop up screen took height and width\n",
    "SET_WIDTH = 650\n",
    "SET_HEIGHT = 368\n",
    "\n",
    "flag = True"
   ]
  },
  {
   "cell_type": "code",
   "execution_count": null,
   "metadata": {},
   "outputs": [],
   "source": [
    "stream = cv2.VideoCapture(\"clip5.mp4\")"
   ]
  },
  {
   "cell_type": "markdown",
   "metadata": {},
   "source": [
    "### This function for button to speed control"
   ]
  },
  {
   "cell_type": "code",
   "execution_count": null,
   "metadata": {},
   "outputs": [],
   "source": [
    "\n",
    "def play(speed):\n",
    "    global flag\n",
    "    #Play the video reverse mode\n",
    "    frame1 = stream.get(cv2.CAP_PROP_POS_FRAMES)\n",
    "    stream.set(cv2.CAP_PROP_POS_FRAMES, frame1 + speed)\n",
    "\n",
    "    grabbed,frame = stream.read()\n",
    "    if not grabbed:\n",
    "        exit()\n",
    "    frame = imutils.resize(frame , width= SET_WIDTH , height= SET_HEIGHT)\n",
    "    frame = PIL.ImageTk.PhotoImage(image= PIL.Image.fromarray(frame))\n",
    "    canvas.image = frame\n",
    "    canvas.create_image(0,0 ,image=frame ,anchor=tkinter.NW)\n",
    "    \n",
    "    if flag:\n",
    "        canvas.create_text(170,25 , fill=\"red\", font= \"Time 27 italic bold\", text=\"Decision Pending...\")\n",
    "    flag = not flag\n",
    "    \n",
    "  \n",
    "    print(f\"You clicked on play. Speed is {speed}\")"
   ]
  },
  {
   "cell_type": "markdown",
   "metadata": {},
   "source": [
    "## This function will return out "
   ]
  },
  {
   "cell_type": "code",
   "execution_count": null,
   "metadata": {},
   "outputs": [],
   "source": [
    "def out():\n",
    "    thread = threading.Thread(target=pending, args=(\"out\",))\n",
    "    thread.daemon = 1\n",
    "    thread.start()\n",
    "    print(\"Player is out\")"
   ]
  },
  {
   "cell_type": "markdown",
   "metadata": {},
   "source": [
    "### It will give the final decision"
   ]
  },
  {
   "cell_type": "code",
   "execution_count": null,
   "metadata": {},
   "outputs": [],
   "source": [
    "def pending(decision):\n",
    "    #1.Display decision pending image\n",
    "    frame = cv2.cvtColor(cv2.imread(\"pending.png\"), cv2.COLOR_BGR2RGB)\n",
    "    frame = imutils.resize(frame, width= SET_WIDTH, height= SET_HEIGHT)\n",
    "    frame = PIL.ImageTk.PhotoImage(image= PIL.Image.fromarray(frame))  #To get image object\n",
    "    canvas.image = frame\n",
    "    canvas.create_image(0,0 ,image=frame ,anchor=tkinter.NW)\n",
    "    #2.Wait for 2 sec\n",
    "    time.sleep(2)\n",
    "    \n",
    "    #3.Display sponsor image\n",
    "    frame = cv2.cvtColor(cv2.imread(\"sponsor.png\"), cv2.COLOR_BGR2RGB)\n",
    "    frame = imutils.resize(frame, width= SET_WIDTH, height= SET_HEIGHT)\n",
    "    frame = PIL.ImageTk.PhotoImage(image= PIL.Image.fromarray(frame))  #To get image object\n",
    "    canvas.image = frame\n",
    "    canvas.create_image(0,0 ,image=frame ,anchor=tkinter.NW)\n",
    "    #4.Wait for 1.5 sec\n",
    "    time.sleep(1.5)\n",
    "    \n",
    "    #5.Display out/not out\n",
    "    if decision == 'out':\n",
    "        decisionImg = 'out.png'\n",
    "    else:\n",
    "        decisionImg = 'not out.png'\n",
    "    frame = cv2.cvtColor(cv2.imread(decisionImg), cv2.COLOR_BGR2RGB)\n",
    "    frame = imutils.resize(frame, width= SET_WIDTH, height= SET_HEIGHT)\n",
    "    frame = PIL.ImageTk.PhotoImage(image= PIL.Image.fromarray(frame))  #To get image object\n",
    "    canvas.image = frame\n",
    "    canvas.create_image(0,0 ,image=frame ,anchor=tkinter.NW)"
   ]
  },
  {
   "cell_type": "markdown",
   "metadata": {},
   "source": [
    "## This function will return not out "
   ]
  },
  {
   "cell_type": "code",
   "execution_count": 2,
   "metadata": {},
   "outputs": [],
   "source": [
    "def not_out():\n",
    "    thread = threading.Thread(target=pending, args=(\"not out\",))\n",
    "    thread.daemon = 1\n",
    "    thread.start()\n",
    "    print(\"Player is not out\")\n"
   ]
  },
  {
   "cell_type": "code",
   "execution_count": null,
   "metadata": {},
   "outputs": [],
   "source": [
    "#To get a pop up window and title . tkinter GUI starts from here\n",
    "window = tkinter.Tk()\n",
    "window.title(\"Third Umpire Decision Review System\")\n",
    "\n",
    "#To canvas welcome.png into GUI\n",
    "canvas  = tkinter.Canvas(window, width= SET_WIDTH , height= SET_HEIGHT)\n",
    "cv_img = cv2.cvtColor(cv2.imread(\"welcome.png\"), cv2.COLOR_BGR2RGB)\n",
    "photo = PIL.ImageTk.PhotoImage(image= PIL.Image.fromarray(cv_img))\n",
    "image_on_canvas = canvas.create_image(0,0,anchor=tkinter.NW, image= photo)\n",
    "canvas.pack()\n",
    "\n",
    "#Buttons to control playback\n",
    "btn = tkinter.Button(window , text=\"<<Previous (Fast)\", width=50, command=partial(play, -25))\n",
    "btn.pack()\n",
    "\n",
    "btn = tkinter.Button(window , text=\"<<Previous (Slow)\", width=50, command=partial(play, -2))\n",
    "btn.pack()\n",
    "\n",
    "btn = tkinter.Button(window , text=\"Next (Fast)>>\", width=50, command=partial(play, 25))\n",
    "btn.pack()\n",
    "\n",
    "btn = tkinter.Button(window , text=\"Next (Slow)>>\", width=50, command=partial(play, 2))\n",
    "btn.pack()\n",
    "\n",
    "btn = tkinter.Button(window , text=\"Give Out!\", width=50, command= out)\n",
    "btn.pack()\n",
    "\n",
    "btn = tkinter.Button(window , text=\"Give Not Out!\", width=50, command= not_out)\n",
    "btn.pack()\n",
    "\n",
    "window.mainloop()\n"
   ]
  }
 ],
 "metadata": {
  "kernelspec": {
   "display_name": "Python 3 (ipykernel)",
   "language": "python",
   "name": "python3"
  },
  "language_info": {
   "codemirror_mode": {
    "name": "ipython",
    "version": 3
   },
   "file_extension": ".py",
   "mimetype": "text/x-python",
   "name": "python",
   "nbconvert_exporter": "python",
   "pygments_lexer": "ipython3",
   "version": "3.7.13"
  },
  "vscode": {
   "interpreter": {
    "hash": "7a29293c9d4d8b93126739266382f07a312940ff8d40640417510f0b045f4058"
   }
  }
 },
 "nbformat": 4,
 "nbformat_minor": 2
}
